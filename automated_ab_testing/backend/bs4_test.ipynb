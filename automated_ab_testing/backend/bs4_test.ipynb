{
 "cells": [
  {
   "cell_type": "code",
   "execution_count": 15,
   "metadata": {},
   "outputs": [],
   "source": [
    "from urllib.request import urlopen\n",
    "from bs4 import BeautifulSoup\n",
    "import os\n",
    "from litellm import completion\n",
    "import re"
   ]
  },
  {
   "cell_type": "code",
   "execution_count": 16,
   "metadata": {},
   "outputs": [],
   "source": [
    "with open(\"../../../api_key_aipm.txt\", 'r') as file:\n",
    "    OPENAI_API_KEY = file.read().strip()\n",
    "os.environ['OPENAI_API_KEY'] = OPENAI_API_KEY"
   ]
  },
  {
   "cell_type": "code",
   "execution_count": 17,
   "metadata": {},
   "outputs": [],
   "source": [
    "def generate_prompt(original_text, context):\n",
    "    \"\"\"\n",
    "    Generate personalized text using an LLM model.\n",
    "\n",
    "    Args:\n",
    "        original_text (str): The original text from the HTML element.\n",
    "        context (dict): A dictionary containing user-specific information or preferences.\n",
    "\n",
    "    Returns:\n",
    "        str: The generated text.\n",
    "    \"\"\"\n",
    "    # Example prompt for the model\n",
    "    prompt = f\"\"\"\n",
    "    You are a highly creative and professional text generator for websites. \n",
    "    Your task is to rewrite the following text to make it more engaging and tailored \n",
    "    to the following user context: {context}.\n",
    "    \n",
    "    Original text: \"{original_text}\"\n",
    "    \n",
    "    Rewrite the text in a way that is personalized and keeps its original intent. \n",
    "    If the information is not changeable, like an adress or a date, don't change anything and return the original text.\n",
    "\n",
    "    Please return the output as clean text and keep the output approximately the same length as the original text.\n",
    "    \"\"\"\n",
    "\n",
    "    return prompt\n",
    "\n",
    "def get_new_string(original_text, context, model=\"o1-mini\", **kwargs):\n",
    "    prompt = generate_prompt(original_text, context)\n",
    "    messages = [{\"role\": \"user\", \"content\": prompt}]\n",
    "    \n",
    "    response = completion(\n",
    "        messages=messages,\n",
    "        model=model,\n",
    "        **kwargs\n",
    "    )\n",
    "\n",
    "    new_string = response.choices[0].message.content\n",
    "    new_string = re.sub(r\"[*•<>]\", \"\", new_string)  # Remove asterisks, bullet points, or HTML-like tags\n",
    "    new_string = new_string.strip() \n",
    "    \n",
    "    return new_string"
   ]
  },
  {
   "cell_type": "code",
   "execution_count": 18,
   "metadata": {},
   "outputs": [],
   "source": [
    "def generate_new_html(url, html_elements, output_name, context): \n",
    "    html = urlopen(url).read()\n",
    "    soup = BeautifulSoup(html, features=\"html.parser\")\n",
    "\n",
    "    for s in soup.find_all(html_elements):\n",
    "        if s.string and s.string != \" \":\n",
    "            new_string = get_new_string(s.string, context)\n",
    "            s.string.replace_with(new_string)\n",
    "\n",
    "    with open(output_name, \"w\") as file:\n",
    "        file.write(str(soup))"
   ]
  },
  {
   "cell_type": "code",
   "execution_count": 19,
   "metadata": {},
   "outputs": [],
   "source": [
    "url = \"https://www.lausanne-palace.ch/accueil/\"\n",
    "html_elements = [\"h1\", \"h2\", \"p\", \"h4\", \"h3\"]\n",
    "output_name = \"bs4_output.html\"\n",
    "context = 'Appeal a younger audience'"
   ]
  },
  {
   "cell_type": "code",
   "execution_count": 20,
   "metadata": {},
   "outputs": [],
   "source": [
    "generate_new_html(url, html_elements, output_name, context)"
   ]
  },
  {
   "cell_type": "code",
   "execution_count": 21,
   "metadata": {},
   "outputs": [
    {
     "data": {
      "text/plain": [
       "'Tous les jeudis soir, découvrez l’ambiance tendance et conviviale du LP’s Bar et laissez-vous emporter par notre programmation live. Que vous soyez fan de jazz ou en quête d’une expérience musicale moderne, profitez d’un moment fun entre amis ou collègues.'"
      ]
     },
     "execution_count": 21,
     "metadata": {},
     "output_type": "execute_result"
    }
   ],
   "source": [
    "example = \"Chaque jeudi soir, plongez dans l’atmosphère élégante et intime du LP’s Bar et laissez-vous envoûter par notr programmation en live. Que vous soyez passionné de jazz ou en quête d’une expérience musicale sophistiquée, profitez d’un moment de détente idéal entre amis ou collègues.\"\n",
    "get_new_string(example, context)"
   ]
  },
  {
   "cell_type": "code",
   "execution_count": null,
   "metadata": {},
   "outputs": [],
   "source": []
  }
 ],
 "metadata": {
  "kernelspec": {
   "display_name": "aipm",
   "language": "python",
   "name": "python3"
  },
  "language_info": {
   "codemirror_mode": {
    "name": "ipython",
    "version": 3
   },
   "file_extension": ".py",
   "mimetype": "text/x-python",
   "name": "python",
   "nbconvert_exporter": "python",
   "pygments_lexer": "ipython3",
   "version": "3.11.9"
  }
 },
 "nbformat": 4,
 "nbformat_minor": 2
}
